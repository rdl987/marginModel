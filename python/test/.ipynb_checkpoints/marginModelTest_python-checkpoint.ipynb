{
 "cells": [
  {
   "cell_type": "code",
   "execution_count": 1,
   "metadata": {},
   "outputs": [],
   "source": [
    "import pyarrow.feather as feather\n",
    "import sys\n",
    "import pandas\n",
    "from pandas.tseries.offsets import BDay, DateOffset\n",
    "from datetime import date, datetime\n",
    "import numpy\n",
    "import sys, time, random"
   ]
  },
  {
   "cell_type": "code",
   "execution_count": 2,
   "metadata": {},
   "outputs": [
    {
     "name": "stdout",
     "output_type": "stream",
     "text": [
      "[90.0, 91.0, 92.0]\n"
     ]
    }
   ],
   "source": [
    "# preparing holdin periods and confidence levels list\n",
    "HP = 1\n",
    "HP_STEP = 1\n",
    "HP_CNT = 2\n",
    "CONF = 90.00\n",
    "CONF_STEP =1.00\n",
    "CONF_CNT = 3\n",
    "LOOKBACK_PERIOD=1000\n",
    "\n",
    "CLstart = CONF\n",
    "CLlist = [CLstart]\n",
    "\n",
    "while len(CLlist) < CONF_CNT:\n",
    "    \n",
    "    CL = CLstart + CONF_STEP\n",
    "    CLlist.append(CL)\n",
    "    CLstart = CL\n",
    "    \n",
    "print(CLlist)"
   ]
  },
  {
   "cell_type": "code",
   "execution_count": 3,
   "metadata": {},
   "outputs": [
    {
     "name": "stdout",
     "output_type": "stream",
     "text": [
      "[1, 2]\n"
     ]
    }
   ],
   "source": [
    "HPstart = HP\n",
    "HPlist = [HPstart]\n",
    "\n",
    "while len(HPlist) < HP_CNT:\n",
    "    \n",
    "    HP = HPstart + HP_STEP\n",
    "    HPlist.append(HP)\n",
    "    HPstart = HP\n",
    "    \n",
    "print(HPlist)"
   ]
  },
  {
   "cell_type": "code",
   "execution_count": 4,
   "metadata": {},
   "outputs": [
    {
     "name": "stdout",
     "output_type": "stream",
     "text": [
      "       rf_id   rf_dttm  rf_value  rf_node\n",
      "0    ITA10YZ  20200702  12.10800      120\n",
      "1    ITA10YZ  20200723   0.99043      120\n",
      "2    ITA10YZ  20200727   0.99579      120\n",
      "3    ITA10YZ  20200729  10.00100      120\n",
      "4    ITA10YZ  20200730   0.97361      120\n",
      "..       ...       ...       ...      ...\n",
      "510   ITA9YZ  20200819   0.86550      108\n",
      "511   ITA9YZ  20200820   0.86123      108\n",
      "512   ITA9YZ  20200821   0.89252      108\n",
      "513   ITA9YZ  20200823   0.89252      108\n",
      "514   ITA9YZ  20200824   0.89331      108\n",
      "\n",
      "[515 rows x 4 columns]\n"
     ]
    }
   ],
   "source": [
    "#load feather files\n",
    "curves_df = feather.read_feather(\"./retrieved_curves.feather\")\n",
    "print(curves_df)"
   ]
  },
  {
   "cell_type": "code",
   "execution_count": 5,
   "metadata": {},
   "outputs": [
    {
     "name": "stdout",
     "output_type": "stream",
     "text": [
      "      position_id  iter_id  account_id  instrument_id   qty       ctv  price\n",
      "0            3200        0          33              0  6534  653400.0  100.0\n",
      "1            3201        0          33              1  5430  570150.0  105.0\n",
      "2            3202        0          33              2  9451  992355.0  105.0\n",
      "3            3203        0          33              3  4184  435136.0  104.0\n",
      "4            3204        0          33              4  7811  773289.0   99.0\n",
      "...           ...      ...         ...            ...   ...       ...    ...\n",
      "8595       214535        0          45             25  3865  386500.0  100.0\n",
      "8596       214536        0          45             47  2150  225750.0  105.0\n",
      "8597       214537        0          45             39  3491  366555.0  105.0\n",
      "8598       214538        0          45             14  3853  396859.0  103.0\n",
      "8599       214539        0          45             41  8169  816900.0  100.0\n",
      "\n",
      "[8600 rows x 7 columns]\n"
     ]
    }
   ],
   "source": [
    "positions_df = feather.read_feather('./positions.feather')\n",
    "print(positions_df)"
   ]
  },
  {
   "cell_type": "code",
   "execution_count": 6,
   "metadata": {},
   "outputs": [
    {
     "name": "stdout",
     "output_type": "stream",
     "text": [
      "     instrument_id          rf_id  bucket_flow\n",
      "0                0         POR8YZ         22.0\n",
      "1                1         EUR4YZ         51.0\n",
      "2                1      EUROIS6MZ         73.0\n",
      "3                2      ESGOV18YZ         20.0\n",
      "4                2  EURESTOIS10YZ         84.0\n",
      "..             ...            ...          ...\n",
      "262             98         DEN1YZ         32.0\n",
      "263             98         EUR3YZ         71.0\n",
      "264             99        DEN10YZ         36.0\n",
      "265             99         DEN9YZ         94.0\n",
      "266             99     EUROIS25YZ         75.0\n",
      "\n",
      "[267 rows x 3 columns]\n"
     ]
    }
   ],
   "source": [
    "instrumentRf_df = feather.read_feather('./instrumentRf.feather')\n",
    "print(instrumentRf_df)"
   ]
  },
  {
   "cell_type": "markdown",
   "metadata": {},
   "source": [
    "# Scenario_unit"
   ]
  },
  {
   "cell_type": "code",
   "execution_count": 7,
   "metadata": {},
   "outputs": [],
   "source": [
    "def createScenarios(hp_list, lookback_period, retrieved_curves):\n",
    "\tused_nodes = retrieved_curves['rf_node'].drop_duplicates().tolist()\n",
    "\n",
    "\t# scenarios construction\n",
    "\tscenarios = pandas.DataFrame()\n",
    "\tfor holding_period in hp_list:\n",
    "\t\tfor node_str in used_nodes:\n",
    "\t\t\tnode = int(node_str)\n",
    "\t\t\t\n",
    "\t\t\tsubframe = retrieved_curves.loc[retrieved_curves['rf_node'] == node_str].copy()\n",
    "\t\t\tsubframe.sort_values(by=['rf_dttm'], ascending=False, inplace=True)\n",
    "\t\t\t\n",
    "\t\t\tshifted_prices = subframe['rf_value'][holding_period:].tolist()\n",
    "\t\t\tsubframe = subframe[:-holding_period]\n",
    "\t\t\t\n",
    "\t\t\tsubframe['SH_CLOSEPR'] = shifted_prices\n",
    "\t\t\t\n",
    "\t\t\tsubframe['rf_value'] = subframe['rf_value'].astype(float)\n",
    "\t\t\tsubframe['rf_node'] = subframe['rf_node'].astype(int)\n",
    "\t\t\tsubframe['SH_CLOSEPR'] = subframe['SH_CLOSEPR'].astype(float)\n",
    "\n",
    "\t\t\tif node < 1:\n",
    "\t\t\t\tsubframe['PRICE'] = 100 * numpy.exp(-subframe['rf_node'] * subframe['rf_value'] / 100)\n",
    "\t\t\t\tsubframe['SH_PRICE'] = 100 * numpy.exp(-subframe['rf_node'] * subframe['SH_CLOSEPR'] / 100)\n",
    "\t\t\telse:\n",
    "\t\t\t\tsubframe['PRICE'] = 100 / (1 + subframe['rf_value'] / 100) ** subframe['rf_node']\n",
    "\t\t\t\tsubframe['SH_PRICE'] = 100 / (1 + subframe['SH_CLOSEPR'] / 100) ** subframe['rf_node']\n",
    "\n",
    "\t\t\tsubframe['SN_VALUE'] = subframe['PRICE'] / subframe['SH_PRICE']\n",
    "\t\t\tsubframe = subframe[:lookback_period]\n",
    "\t\t\tsubframe['HP'] = [holding_period] * len(subframe.index)\n",
    "\t\t\t       \n",
    "\t\t\tscenarios = scenarios.append(subframe)\n",
    "\n",
    "\tscenarios.reset_index(inplace=True, drop=True)\n",
    "\n",
    "\treturn scenarios"
   ]
  },
  {
   "cell_type": "code",
   "execution_count": 8,
   "metadata": {},
   "outputs": [
    {
     "name": "stdout",
     "output_type": "stream",
     "text": [
      "       rf_id   rf_dttm  rf_value  rf_node  SH_CLOSEPR      PRICE    SH_PRICE  \\\n",
      "0    ITA10YZ  20200824   0.96247      120     0.95901  31.681372   31.811929   \n",
      "1    ITA10YZ  20200823   0.95901      120     0.95901  31.811929   31.811929   \n",
      "2    ITA10YZ  20200821   0.95901      120     0.92875  31.811929   32.977115   \n",
      "3    ITA10YZ  20200820   0.92875      120     0.92908  32.977115   32.964178   \n",
      "4    ITA10YZ  20200819   0.92908      120     0.94104  32.964178   32.498777   \n",
      "..       ...       ...       ...      ...         ...        ...         ...   \n",
      "980   ITA9YZ  20200724   0.93721      108     0.97876  36.514049   34.926607   \n",
      "981   ITA9YZ  20200723   0.92778      108    11.21100  36.884354    0.001038   \n",
      "982   ITA9YZ  20200722   0.97876      108    11.21100  34.926607    0.001038   \n",
      "983   ITA9YZ  20200719  11.21100      108     1.19100   0.001038   27.840442   \n",
      "984   ITA9YZ  20200717  11.21100      108    -0.43002   0.001038  159.268780   \n",
      "\n",
      "         SN_VALUE  HP  \n",
      "0        0.995896   1  \n",
      "1        1.000000   1  \n",
      "2        0.964667   1  \n",
      "3        1.000392   1  \n",
      "4        1.014321   1  \n",
      "..            ...  ..  \n",
      "980      1.045451   2  \n",
      "981  35546.670391   2  \n",
      "982  33659.924855   2  \n",
      "983      0.000037   2  \n",
      "984      0.000007   2  \n",
      "\n",
      "[985 rows x 9 columns]\n"
     ]
    }
   ],
   "source": [
    "scenarios_df = createScenarios(HPlist,LOOKBACK_PERIOD,curves_df)\n",
    "print(scenarios_df)"
   ]
  },
  {
   "cell_type": "markdown",
   "metadata": {},
   "source": [
    "# Margin_unit"
   ]
  },
  {
   "cell_type": "code",
   "execution_count": 9,
   "metadata": {},
   "outputs": [],
   "source": [
    "def portfolioAggregation(position,instrRf_df):\n",
    "\tposition = position\n",
    "\tfinal_merge = pandas.DataFrame()\n",
    "\n",
    "\tfor p in position['position_id'].tolist():\n",
    "##\t\tisin_map = mkv.getInstrumentRf(company,p)\n",
    "\t\tisin_frame = instrRf_df\n",
    "\n",
    "\t\tpos_subframe = position.loc[position['position_id'] == p]\n",
    "\n",
    "\t\tmember_merge = pandas.merge(isin_frame, pos_subframe, on='instrument_id', how='inner')\n",
    "\n",
    "\t\tmember_merge['ctv'] = member_merge['ctv'].astype(float)\n",
    "\t\tmember_merge['bucket_flow'] = member_merge['bucket_flow'].astype(float)\n",
    "\n",
    "\t\tmember_merge['FLOW_CTV'] = member_merge['bucket_flow'] / 100 * member_merge['ctv']\n",
    "\n",
    "\t\tmember_merge = member_merge[['account_id', 'rf_id', 'FLOW_CTV']].copy()\n",
    "\t\tmember_merge.sort_values(by=['account_id', 'rf_id'], ascending=True, inplace=True)\n",
    "\t\tmember_merge.reset_index(inplace=True, drop=True)\n",
    "\n",
    "\t\tfinal_merge = final_merge.append(member_merge)\n",
    "\n",
    "\tfinal_merge = pandas.pivot_table(final_merge, index=['rf_id', 'account_id'], aggfunc=numpy.sum).reset_index()\n",
    "\n",
    "\treturn final_merge"
   ]
  },
  {
   "cell_type": "code",
   "execution_count": 10,
   "metadata": {},
   "outputs": [
    {
     "name": "stdout",
     "output_type": "stream",
     "text": [
      "       rf_id  account_id     FLOW_CTV\n",
      "0    AUT10YZ          33   8013247.20\n",
      "1    AUT10YZ          45   9985936.95\n",
      "2    AUT20YZ          33   2393998.56\n",
      "3    AUT20YZ          45   2968133.16\n",
      "4     AUT3MZ          33  51354902.06\n",
      "..       ...         ...          ...\n",
      "369   SPA6YZ          45  34866011.20\n",
      "370   SPA8YZ          33   7220141.12\n",
      "371   SPA8YZ          45   6569008.00\n",
      "372   SPA9YZ          33   7960840.24\n",
      "373   SPA9YZ          45   6051972.20\n",
      "\n",
      "[374 rows x 3 columns]\n"
     ]
    }
   ],
   "source": [
    "aggrAccountRf_df = portfolioAggregation(positions_df,instrumentRf_df)\n",
    "print(aggrAccountRf_df)"
   ]
  },
  {
   "cell_type": "code",
   "execution_count": 11,
   "metadata": {},
   "outputs": [],
   "source": [
    "def expectedShortfall(scenario, position_rf, HPlist, CLlist):\n",
    "\tscenario_frame = scenario\n",
    "\n",
    "\tes_result = []\n",
    "\thp_TOT, cl_TOT = [], []\n",
    "\tacc_id = []\n",
    "    \n",
    "\tfor hp in HPlist:\n",
    "\t\tscen_hp = scenario_frame.loc[scenario_frame['HP'] == hp]\n",
    "\t\tnode_reval_frames = []\n",
    "\t\tfor node in position_rf['rf_id'].tolist():\n",
    "\t\t    # loc and iloc methods are needed to extract rows from a data frame\n",
    "\t\t    # iloc needs an index; loc can also use boolean selection\n",
    "\t\t    flow_to_reval = position_rf.loc[position_rf['rf_id'] == node]['FLOW_CTV'].iloc[0]\n",
    "\n",
    "\t\t    sce_subframe = scen_hp.loc[scen_hp['rf_id'] == node].copy()\n",
    "\t\t    SUB = numpy.array(sce_subframe['SN_VALUE'].astype('float32'))\n",
    "\t\t\t#rivalutazione\n",
    "\t\t    sce_subframe['G/L_{}'.format(node)] = SUB * flow_to_reval - flow_to_reval\n",
    "\t\t    sce_subframe = sce_subframe[['rf_dttm', 'G/L_{}'.format(node)]].copy()\n",
    "\t\t    sce_subframe.reset_index(inplace=True, drop=True)\n",
    "\t\t   # print(sce_subframe.info())\n",
    "\t\t    node_reval_frames.append(sce_subframe)\n",
    "\n",
    "\t\tes_frame = node_reval_frames[0]\n",
    "\n",
    "\t\tfor node_reval in node_reval_frames[:]:\n",
    "\t\t\tes_frame = pandas.merge(es_frame, node_reval, on=['rf_dttm'], how='inner')\n",
    "\n",
    "\t\tes_frame['PNL'] = es_frame.iloc[:, 1:].sum(axis=1)\n",
    "\n",
    "\t\tes_frame = es_frame[['rf_dttm', 'PNL']].copy()\n",
    "\t\tes_frame.sort_values(by=['PNL'], ascending=True, inplace=True)\n",
    "\t\tes_frame.reset_index(inplace=True, drop=True)\n",
    "\t\t\n",
    "\t\tfor cl in CLlist:\n",
    "\t\t\tnum_events_tail = max(int(round(len(es_frame.index) * (1 - cl), 0)), 1)\n",
    "\t\t\tes_frame = es_frame[:num_events_tail]\n",
    "\n",
    "\t\t\tes = es_frame['PNL'].mean()\n",
    "\t\t\tes_result.append(abs(es))\n",
    "\n",
    "\t\t\tcl_TOT.append(cl)\n",
    "\t\t\thp_TOT.append(hp)\n",
    "\t\t\tacc_id.append(position_rf['account_id'].iloc[0])\n",
    "        \n",
    "\tresults_frame = pandas.DataFrame({'account_id': acc_id,\n",
    "\t\t\t\t      'EXPECTED_S': es_result,        \n",
    "\t\t\t\t      'HP': hp_TOT,\n",
    "\t\t\t\t      'CONF': cl_TOT})\n",
    "\n",
    "\treturn results_frame"
   ]
  },
  {
   "cell_type": "code",
   "execution_count": 12,
   "metadata": {},
   "outputs": [
    {
     "name": "stdout",
     "output_type": "stream",
     "text": [
      "   account_id  EXPECTED_S  HP  CONF\n",
      "0          33         NaN   1  90.0\n",
      "1          33         NaN   1  91.0\n",
      "2          33         NaN   1  92.0\n",
      "3          33         NaN   2  90.0\n",
      "4          33         NaN   2  91.0\n",
      "5          33         NaN   2  92.0\n"
     ]
    }
   ],
   "source": [
    "expShortfall_df = expectedShortfall(scenarios_df,aggrAccountRf_df,HPlist,CLlist)\n",
    "print(expShortfall_df)"
   ]
  },
  {
   "cell_type": "code",
   "execution_count": null,
   "metadata": {},
   "outputs": [],
   "source": []
  }
 ],
 "metadata": {
  "kernelspec": {
   "display_name": "Python 3",
   "language": "python",
   "name": "python3"
  },
  "language_info": {
   "codemirror_mode": {
    "name": "ipython",
    "version": 3
   },
   "file_extension": ".py",
   "mimetype": "text/x-python",
   "name": "python",
   "nbconvert_exporter": "python",
   "pygments_lexer": "ipython3",
   "version": "3.8.2"
  }
 },
 "nbformat": 4,
 "nbformat_minor": 4
}
